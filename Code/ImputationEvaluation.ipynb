{
 "cells": [
  {
   "cell_type": "code",
   "execution_count": 2,
   "metadata": {},
   "outputs": [],
   "source": [
    "import pickle\n",
    "import numpy as np\n",
    "import pandas as pd\n",
    "import seaborn as sns\n",
    "from tqdm import tqdm\n",
    "from pandas import Series\n",
    "import numpy.linalg as npl\n",
    "from numpy import load,save \n",
    "from random import randrange\n",
    "import matplotlib.pyplot as plt\n",
    "from sklearn.decomposition import PCA\n",
    "from statsmodels.tsa.seasonal import STL\n",
    "from sklearn.metrics import accuracy_score\n",
    "from sklearn.neighbors import KernelDensity\n",
    "from sklearn.metrics import confusion_matrix\n",
    "from sklearn.metrics import precision_recall_curve\n",
    "from statsmodels.tsa.seasonal import seasonal_decompose\n",
    "plt.rcParams[\"figure.figsize\"] = (20,10)\n",
    "\n",
    "import warnings\n",
    "warnings.filterwarnings(\"ignore\")"
   ]
  },
  {
   "cell_type": "code",
   "execution_count": 3,
   "metadata": {},
   "outputs": [],
   "source": [
    "plt.rcParams[\"figure.figsize\"] = (20,10)\n",
    "import sys \n",
    "sys.path.append(r'C:\\Users\\nmadhar\\Desktop\\Conv_deep\\ToSubmit\\Code')\n",
    "from pca_ad_utils import *\n",
    "from decomp_utils import *\n",
    "from customizedLossSynthetic import *\n",
    "from LocationAnomalyPCA import *\n",
    "from utilsImputation import *\n",
    "\n",
    "\n",
    "sys.path.append(r'C:\\Users\\nmadhar\\Desktop\\Conv_deep\\ToSubmit\\Code\\DataGenerator')\n",
    "from ParamsEstimationUtils import *\n",
    "sys.path.append(r'C:\\Users\\nmadhar\\Desktop\\Conv_deep\\ToSubmit\\Code\\DataGenerator')\n",
    "from syntheticDataGeneratorUtils import *"
   ]
  },
  {
   "cell_type": "code",
   "execution_count": 4,
   "metadata": {},
   "outputs": [],
   "source": [
    "nStocks = 20\n",
    "T = 1\n",
    "M = int(2.**10)\n",
    "Ntrain = int(2.**10)\n",
    "Ntest = int(2.**9)\n",
    "N = Ntrain + Ntest\n",
    "k=20\n",
    "\n",
    "alpha = 0.9\n",
    "windowSize = 206\n",
    "upBound=0.04\n",
    "AnoNumber = 5\n",
    "isimul = 0\n",
    "\n",
    "Cov = pd.read_csv(r'C:\\Users\\nmadhar\\Desktop\\Conv_deep\\ToSubmit\\Code\\DataGenerator\\Params\\Cov.csv').drop(['Unnamed: 0'],axis=1).values\n",
    "S0 = pd.read_csv(r'C:\\Users\\nmadhar\\Desktop\\Conv_deep\\ToSubmit\\Code\\DataGenerator\\Params\\S0.csv').drop(['Unnamed: 0'],axis=1).values.reshape(-1,)\n",
    "mu = pd.read_csv(r'C:\\Users\\nmadhar\\Desktop\\Conv_deep\\ToSubmit\\Code\\DataGenerator\\Params\\mu.csv').drop(['Unnamed: 0'],axis=1).values.reshape(-1,)\n",
    "sigma = pd.read_csv(r'C:\\Users\\nmadhar\\Desktop\\Conv_deep\\ToSubmit\\Code\\DataGenerator\\Params\\Sigma.csv').drop(['Unnamed: 0'],axis=1).values.reshape(-1,)\n"
   ]
  },
  {
   "cell_type": "code",
   "execution_count": 5,
   "metadata": {},
   "outputs": [],
   "source": [
    "X_trainUnderdf = pd.read_csv(r'C:\\Users\\nmadhar\\Desktop\\Conv_deep\\ToSubmit\\Data\\XTrainUnder.csv').drop(['Unnamed: 0'],axis=1)\n",
    "y_trainUnderdf = pd.read_csv(r'C:\\Users\\nmadhar\\Desktop\\Conv_deep\\ToSubmit\\Data\\yTrainUnder.csv').drop(['Unnamed: 0'],axis=1)\n",
    "\n",
    "X_testUnderdf = pd.read_csv(r'C:\\Users\\nmadhar\\Desktop\\Conv_deep\\ToSubmit\\Data\\XTestUnder.csv').drop(['Unnamed: 0'],axis=1)\n",
    "y_testUnderdf = pd.read_csv(r'C:\\Users\\nmadhar\\Desktop\\Conv_deep\\ToSubmit\\Data\\yTestUnder.csv').drop(['Unnamed: 0'],axis=1)\n"
   ]
  },
  {
   "cell_type": "code",
   "execution_count": 6,
   "metadata": {},
   "outputs": [
    {
     "name": "stdout",
     "output_type": "stream",
     "text": [
      "Normal observations in train set 6010\n",
      "Outlier observations in train set 6010 \n",
      "\n",
      "Normal observations in test set 2109\n",
      "Outlier observations in test set 421\n"
     ]
    }
   ],
   "source": [
    "X_trainUnder = np.array(X_trainUnderdf.iloc[:,:-3])\n",
    "X_testUnder = np.array(X_testUnderdf.iloc[:,:-3])\n",
    "\n",
    "y_trainUnder = np.array(y_trainUnderdf['NbAnomaly'])\n",
    "y_testUnder = np.array(y_testUnderdf['NbAnomaly'])\n",
    "ytrainUnder = np.array([1 if l==1 else 0 for l in y_trainUnder])\n",
    "ytestUnder = np.array([1 if l==1 else 0 for l in y_testUnder])\n",
    "\n",
    "print(f'Normal observations in train set {list(y_trainUnder).count(0)}')\n",
    "print(f'Outlier observations in train set {list(y_trainUnder).count(1)} \\n')\n",
    "\n",
    "print(f'Normal observations in test set {list(y_testUnder).count(0)}')\n",
    "print(f'Outlier observations in test set {list(y_testUnder).count(1)}')\n",
    "\n",
    "\n",
    "\n",
    "k = 20\n",
    "\n",
    "# Learning on TS \n",
    "\n",
    "model = PCA(n_components=k)\n",
    "model.fit(X_trainUnder)\n",
    "r_train = model.inverse_transform(model.transform(X_trainUnder))\n",
    "r_test = model.inverse_transform(model.transform(X_testUnder))\n",
    "\n",
    "\n",
    "\n",
    "\n",
    "reconsRawTrain = r_train\n",
    "reconsRawTest = r_test\n",
    "\n",
    "\n",
    "reconsRawTrain = torch.tensor(reconsRawTrain)\n",
    "ytrain = torch.tensor(ytrainUnder.reshape(-1,1))\n",
    "\n",
    "\n",
    "reconsRawTest = torch.tensor(reconsRawTest)\n",
    "ytest = torch.tensor(ytestUnder.reshape(-1,1))\n",
    "xtrain = np.array(X_trainUnder,dtype=float)\n",
    "ytrain = np.array(y_trainUnder,dtype=float)\n",
    "\n",
    "xtest = np.array(X_testUnder,dtype=float)\n",
    "ytest = np.array(y_testUnder,dtype=float)\n",
    "\n",
    "xtrain = torch.tensor(xtrain)\n",
    "ytrain = torch.tensor(ytrain.reshape(-1,1))\n",
    "\n",
    "\n",
    "xtest = torch.tensor(xtest)\n",
    "ytest = torch.tensor(ytest.reshape(-1,1))\n",
    "\n",
    "ErrRawTrain = xtrain - reconsRawTrain\n",
    "ErrRawTrain = torch.tensor(ErrRawTrain)\n",
    "\n",
    "ErrRawTest = xtest - reconsRawTest\n",
    "ErrRawTest = torch.tensor(ErrRawTest)"
   ]
  },
  {
   "cell_type": "code",
   "execution_count": 7,
   "metadata": {},
   "outputs": [
    {
     "name": "stderr",
     "output_type": "stream",
     "text": [
      "100%|████████████████████████████████████████████████████████████████████████████████| 100/100 [00:15<00:00,  5.74it/s]\n"
     ]
    }
   ],
   "source": [
    "NbSimul = 100\n",
    "stocksName = ['S'+str(i) for i in range(20)]\n",
    "\n",
    "ImputationError =  pd.DataFrame(columns=['Error','Stock','Method','iSimul'],\n",
    "                                                           index=np.arange(20*4*NbSimul))\n",
    "\n",
    "CovError = pd.DataFrame(columns=['Error','Method','iSimul'],index=np.arange((4+1)*NbSimul))\n",
    "\n",
    "for iSimul in tqdm(range(NbSimul)):\n",
    "    stocks,time = GBMsimulator(iSimul,S0,mu,sigma,Cov,T,N)\n",
    "    dt = time\n",
    "\n",
    "    StocksDFTrain = pd.DataFrame(stocks[:,:])\n",
    "    n,d = StocksDFTrain.shape\n",
    "    dfTSwAnomalyTrain,dfTSLabelTrain = AnomalyGeneratorDF(StocksDFTrain,AnoNumber,windowSize,alpha,upBound)\n",
    "\n",
    "\n",
    "    stocksAnoImpuBF,stocksAnoImpuPCA,stocksAnoImpuLinear = Imputation(AnoTS=dfTSwAnomalyTrain,\n",
    "                                                                  cleanTS=StocksDFTrain,\n",
    "                                                                  modelPCA=model,windowsize=206)\n",
    "    Res = EvalImputation(dfTSwAnomalyTrain,StocksDFTrain,stocksAnoImpuBF,stocksAnoImpuPCA,stocksAnoImpuLinear,AnoNumber).values\n",
    "    ImputationError.iloc[iSimul*80:(iSimul+1)*80,0] = Res[:,:-1].flatten()\n",
    "    ImputationError.iloc[iSimul*80:(iSimul+1)*80,1] = np.concatenate([stocksName,stocksName,\n",
    "                                                                     stocksName,stocksName])\n",
    "    ImputationError.iloc[iSimul*80:(iSimul+1)*80,2] = np.repeat(['BF','PCA','Linear','Ano'], 20)\n",
    "    ImputationError.iloc[iSimul*80:(iSimul+1)*80,3] = iSimul\n",
    "    \n",
    "    \n",
    "    CovError.iloc[iSimul*5:(iSimul+1)*5,:-2] = np.array(EvalImpuCov(dfTSwAnomalyTrain,StocksDFTrain,stocksAnoImpuBF,stocksAnoImpuPCA,stocksAnoImpuLinear,Cov,sigma)).reshape(-1,1)\n",
    "    CovError.iloc[iSimul*5:(iSimul+1)*5,-2] = ['Ano','PCA','Linear','BF','Clean']\n",
    "    CovError.iloc[iSimul*5:(iSimul+1)*5,-1] = iSimul"
   ]
  },
  {
   "cell_type": "code",
   "execution_count": 8,
   "metadata": {},
   "outputs": [
    {
     "data": {
      "text/html": [
       "<div>\n",
       "<style scoped>\n",
       "    .dataframe tbody tr th:only-of-type {\n",
       "        vertical-align: middle;\n",
       "    }\n",
       "\n",
       "    .dataframe tbody tr th {\n",
       "        vertical-align: top;\n",
       "    }\n",
       "\n",
       "    .dataframe thead th {\n",
       "        text-align: right;\n",
       "    }\n",
       "</style>\n",
       "<table border=\"1\" class=\"dataframe\">\n",
       "  <thead>\n",
       "    <tr style=\"text-align: right;\">\n",
       "      <th></th>\n",
       "      <th>Error</th>\n",
       "      <th>Stock</th>\n",
       "      <th>Method</th>\n",
       "      <th>iSimul</th>\n",
       "    </tr>\n",
       "  </thead>\n",
       "  <tbody>\n",
       "    <tr>\n",
       "      <th>0</th>\n",
       "      <td>0.242578</td>\n",
       "      <td>S0</td>\n",
       "      <td>BF</td>\n",
       "      <td>0</td>\n",
       "    </tr>\n",
       "    <tr>\n",
       "      <th>1</th>\n",
       "      <td>0.033156</td>\n",
       "      <td>S1</td>\n",
       "      <td>BF</td>\n",
       "      <td>0</td>\n",
       "    </tr>\n",
       "    <tr>\n",
       "      <th>2</th>\n",
       "      <td>0.107087</td>\n",
       "      <td>S2</td>\n",
       "      <td>BF</td>\n",
       "      <td>0</td>\n",
       "    </tr>\n",
       "    <tr>\n",
       "      <th>3</th>\n",
       "      <td>0.19871</td>\n",
       "      <td>S3</td>\n",
       "      <td>BF</td>\n",
       "      <td>0</td>\n",
       "    </tr>\n",
       "    <tr>\n",
       "      <th>4</th>\n",
       "      <td>0.067125</td>\n",
       "      <td>S4</td>\n",
       "      <td>BF</td>\n",
       "      <td>0</td>\n",
       "    </tr>\n",
       "    <tr>\n",
       "      <th>...</th>\n",
       "      <td>...</td>\n",
       "      <td>...</td>\n",
       "      <td>...</td>\n",
       "      <td>...</td>\n",
       "    </tr>\n",
       "    <tr>\n",
       "      <th>7995</th>\n",
       "      <td>2.127758</td>\n",
       "      <td>S15</td>\n",
       "      <td>Ano</td>\n",
       "      <td>99</td>\n",
       "    </tr>\n",
       "    <tr>\n",
       "      <th>7996</th>\n",
       "      <td>0.751794</td>\n",
       "      <td>S16</td>\n",
       "      <td>Ano</td>\n",
       "      <td>99</td>\n",
       "    </tr>\n",
       "    <tr>\n",
       "      <th>7997</th>\n",
       "      <td>2.103457</td>\n",
       "      <td>S17</td>\n",
       "      <td>Ano</td>\n",
       "      <td>99</td>\n",
       "    </tr>\n",
       "    <tr>\n",
       "      <th>7998</th>\n",
       "      <td>2.945783</td>\n",
       "      <td>S18</td>\n",
       "      <td>Ano</td>\n",
       "      <td>99</td>\n",
       "    </tr>\n",
       "    <tr>\n",
       "      <th>7999</th>\n",
       "      <td>2.776964</td>\n",
       "      <td>S19</td>\n",
       "      <td>Ano</td>\n",
       "      <td>99</td>\n",
       "    </tr>\n",
       "  </tbody>\n",
       "</table>\n",
       "<p>8000 rows × 4 columns</p>\n",
       "</div>"
      ],
      "text/plain": [
       "         Error Stock Method iSimul\n",
       "0     0.242578    S0     BF      0\n",
       "1     0.033156    S1     BF      0\n",
       "2     0.107087    S2     BF      0\n",
       "3      0.19871    S3     BF      0\n",
       "4     0.067125    S4     BF      0\n",
       "...        ...   ...    ...    ...\n",
       "7995  2.127758   S15    Ano     99\n",
       "7996  0.751794   S16    Ano     99\n",
       "7997  2.103457   S17    Ano     99\n",
       "7998  2.945783   S18    Ano     99\n",
       "7999  2.776964   S19    Ano     99\n",
       "\n",
       "[8000 rows x 4 columns]"
      ]
     },
     "execution_count": 8,
     "metadata": {},
     "output_type": "execute_result"
    }
   ],
   "source": [
    "ImputationError"
   ]
  },
  {
   "cell_type": "code",
   "execution_count": 36,
   "metadata": {},
   "outputs": [],
   "source": [
    "ImputationError.to_csv(r'C:\\Users\\nmadhar\\Desktop\\Conv_deep\\ToSubmit\\Results\\ImputationEvaluation\\ImputationError.csv')\n",
    "CovError.to_csv(r'C:\\Users\\nmadhar\\Desktop\\Conv_deep\\ToSubmit\\Results\\ImputationEvaluation\\CovError.csv')"
   ]
  },
  {
   "cell_type": "markdown",
   "metadata": {},
   "source": [
    "## II. Results visualization"
   ]
  },
  {
   "cell_type": "code",
   "execution_count": 9,
   "metadata": {},
   "outputs": [],
   "source": [
    "ImputationError = pd.read_csv(r'C:\\Users\\nmadhar\\Desktop\\Conv_deep\\ToSubmit\\Results\\ImputationEvaluation\\ImputationError.csv').drop(columns=['Unnamed: 0'])\n",
    "CovError = pd.read_csv(r'C:\\Users\\nmadhar\\Desktop\\Conv_deep\\ToSubmit\\Results\\ImputationEvaluation\\CovError.csv').drop(columns=['Unnamed: 0'])"
   ]
  },
  {
   "cell_type": "code",
   "execution_count": 10,
   "metadata": {},
   "outputs": [],
   "source": [
    "ImputationError = ImputationError.replace(['Linear'],['LI'])\n",
    "CovError = CovError.replace(['Linear'],['LI'])"
   ]
  },
  {
   "cell_type": "code",
   "execution_count": 12,
   "metadata": {},
   "outputs": [],
   "source": [
    "CovError['Error'] = CovError['Error'].astype(float) "
   ]
  },
  {
   "cell_type": "code",
   "execution_count": 13,
   "metadata": {},
   "outputs": [
    {
     "data": {
      "image/png": "[encoded data removed]",
      "text/plain": [
       "<Figure size 1440x720 with 2 Axes>"
      ]
     },
     "metadata": {
      "needs_background": "light"
     },
     "output_type": "display_data"
    }
   ],
   "source": [
    "fig, ax = plt.subplots(1, 2, figsize=(20, 10))\n",
    "\n",
    "\n",
    "CovErrorRestricted = CovError[CovError.Method != 'Ano']\n",
    "sns.set(palette='deep')\n",
    "Method = CovError.Method.unique() \n",
    "method_colors=[\"darkred\",\"firebrick\",\"indianred\",\"salmon\",\"blanchedalmond\"]\n",
    "color_dict = dict(zip(Method, method_colors))\n",
    "bplot = sns.boxplot(x='Method',y='Error',data=CovError,showfliers=False,ax=ax[0])\n",
    "for i in range(0,5):\n",
    "    mybox = bplot.artists[i]\n",
    "    mybox.set_facecolor(color_dict[Method[i]])\n",
    "ax[0].set_xticklabels(ax[0].get_xticklabels(),fontsize=18)  \n",
    "ax[0].tick_params(axis='y',labelsize=18)\n",
    "ax[0].set_ylabel('Error',fontsize=20)\n",
    "ax[0].set_xlabel('Method',fontsize=20)\n",
    "\n",
    "Method = CovErrorRestricted.Method.unique() \n",
    "method_colors=[\"firebrick\",\"indianred\",\"salmon\",\"blanchedalmond\"]\n",
    "color_dict = dict(zip(Method, method_colors))\n",
    "\n",
    "\n",
    "bplot2 = sns.boxplot(x='Method',y='Error',data=CovErrorRestricted,showfliers=False,ax=ax[1])\n",
    "for i in range(0,4):\n",
    "    mybox = bplot2.artists[i]\n",
    "    mybox.set_facecolor(color_dict[Method[i]])\n",
    "ax[1].set_xticklabels(ax[1].get_xticklabels(),fontsize=18) \n",
    "ax[1].tick_params(axis='y',labelsize=18)\n",
    "ax[1].set_ylabel('',fontsize=18)\n",
    "ax[1].set_xlabel('Method',fontsize=20)\n",
    "plt.savefig(r'C:\\Users\\nmadhar\\Desktop\\Conv_deep\\Code\\FinalPaper\\Results\\CovBox.pdf')\n",
    "plt.savefig(r'C:\\Users\\nmadhar\\Desktop\\Conv_deep\\Code\\FinalPaper\\Results\\CovBox.png')\n",
    "\n",
    "plt.show()"
   ]
  },
  {
   "cell_type": "code",
   "execution_count": 14,
   "metadata": {},
   "outputs": [
    {
     "data": {
      "text/html": [
       "<div>\n",
       "<style scoped>\n",
       "    .dataframe tbody tr th:only-of-type {\n",
       "        vertical-align: middle;\n",
       "    }\n",
       "\n",
       "    .dataframe tbody tr th {\n",
       "        vertical-align: top;\n",
       "    }\n",
       "\n",
       "    .dataframe thead th {\n",
       "        text-align: right;\n",
       "    }\n",
       "</style>\n",
       "<table border=\"1\" class=\"dataframe\">\n",
       "  <thead>\n",
       "    <tr style=\"text-align: right;\">\n",
       "      <th>Method</th>\n",
       "      <th>Ano</th>\n",
       "      <th>BF</th>\n",
       "      <th>Clean</th>\n",
       "      <th>LI</th>\n",
       "      <th>PCA</th>\n",
       "    </tr>\n",
       "  </thead>\n",
       "  <tbody>\n",
       "    <tr>\n",
       "      <th>Error</th>\n",
       "      <td>0.004208</td>\n",
       "      <td>0.001554</td>\n",
       "      <td>0.001552</td>\n",
       "      <td>0.001554</td>\n",
       "      <td>0.001575</td>\n",
       "    </tr>\n",
       "  </tbody>\n",
       "</table>\n",
       "</div>"
      ],
      "text/plain": [
       "Method       Ano        BF     Clean        LI       PCA\n",
       "Error   0.004208  0.001554  0.001552  0.001554  0.001575"
      ]
     },
     "execution_count": 14,
     "metadata": {},
     "output_type": "execute_result"
    }
   ],
   "source": [
    "CovError.drop(columns=['iSimul']).groupby('Method').mean().T"
   ]
  },
  {
   "cell_type": "code",
   "execution_count": 16,
   "metadata": {},
   "outputs": [
    {
     "data": {
      "text/html": [
       "<div>\n",
       "<style scoped>\n",
       "    .dataframe tbody tr th:only-of-type {\n",
       "        vertical-align: middle;\n",
       "    }\n",
       "\n",
       "    .dataframe tbody tr th {\n",
       "        vertical-align: top;\n",
       "    }\n",
       "\n",
       "    .dataframe thead th {\n",
       "        text-align: right;\n",
       "    }\n",
       "</style>\n",
       "<table border=\"1\" class=\"dataframe\">\n",
       "  <thead>\n",
       "    <tr style=\"text-align: right;\">\n",
       "      <th>Method</th>\n",
       "      <th>Ano</th>\n",
       "      <th>BF</th>\n",
       "      <th>Clean</th>\n",
       "      <th>LI</th>\n",
       "      <th>PCA</th>\n",
       "    </tr>\n",
       "  </thead>\n",
       "  <tbody>\n",
       "    <tr>\n",
       "      <th>Error</th>\n",
       "      <td>0.000272</td>\n",
       "      <td>0.000172</td>\n",
       "      <td>0.000173</td>\n",
       "      <td>0.00017</td>\n",
       "      <td>0.000165</td>\n",
       "    </tr>\n",
       "  </tbody>\n",
       "</table>\n",
       "</div>"
      ],
      "text/plain": [
       "Method       Ano        BF     Clean       LI       PCA\n",
       "Error   0.000272  0.000172  0.000173  0.00017  0.000165"
      ]
     },
     "execution_count": 16,
     "metadata": {},
     "output_type": "execute_result"
    }
   ],
   "source": [
    "CovError.drop(columns=['iSimul']).groupby('Method').std().T"
   ]
  },
  {
   "cell_type": "code",
   "execution_count": 17,
   "metadata": {},
   "outputs": [],
   "source": [
    "ImputationError['Error'] = ImputationError['Error'].astype(float) "
   ]
  },
  {
   "cell_type": "code",
   "execution_count": 18,
   "metadata": {},
   "outputs": [
    {
     "data": {
      "image/png": "[encoded data removed]",
      "text/plain": [
       "<Figure size 1440x720 with 1 Axes>"
      ]
     },
     "metadata": {},
     "output_type": "display_data"
    }
   ],
   "source": [
    "ax = sns.boxplot(x='Stock',y='Error',hue='Method',data=ImputationError,showfliers=False)\n",
    "sns.move_legend(\n",
    "        ax, \"lower center\",\n",
    "        bbox_to_anchor=(0.5, -.15), ncol=4, title=None, frameon=False)\n",
    "ax.set_xticklabels(ax.get_xticklabels(),fontsize=18) \n",
    "ax.tick_params(axis='y',labelsize=18)\n",
    "ax.set_ylabel('ImputationError',fontsize=22)\n",
    "ax.set_xlabel('Stock',fontsize=20)\n",
    "plt.setp(ax.get_legend().get_texts(), fontsize='22') # for legend text\n",
    "plt.setp(ax.get_legend().get_title(), fontsize='32') # for legend title\n",
    "#plt.savefig(r'C:\\Users\\nmadhar\\Desktop\\Conv_deep\\Code\\FinalPaper\\Results\\BoxplotStocksImput.pdf')\n",
    "#plt.savefig(r'C:\\Users\\nmadhar\\Desktop\\Conv_deep\\Code\\FinalPaper\\Results\\BoxplotStocksImput.png')\n",
    "\n",
    "plt.show()"
   ]
  },
  {
   "cell_type": "code",
   "execution_count": 19,
   "metadata": {},
   "outputs": [
    {
     "data": {
      "image/png": "[encoded data removed]",
      "text/plain": [
       "<Figure size 1440x720 with 1 Axes>"
      ]
     },
     "metadata": {},
     "output_type": "display_data"
    }
   ],
   "source": [
    "ImputationErrorRestricted = ImputationError[ImputationError.Method.isin(['Ano','PCA'])]\n",
    "\n",
    "ax= sns.boxplot(x='Stock',y='Error',hue='Method',data=ImputationErrorRestricted,showfliers=False,palette =sns.color_palette('RdBu', n_colors=10) )\n",
    "sns.move_legend(\n",
    "        ax, \"lower center\",\n",
    "        bbox_to_anchor=(0.5, -.15), ncol=4, title=None, frameon=False)\n",
    "ax.set_xticklabels(ax.get_xticklabels(),fontsize=18) \n",
    "ax.tick_params(axis='y',labelsize=18)\n",
    "ax.set_ylabel('ImputationError',fontsize=22)\n",
    "ax.set_xlabel('Stock',fontsize=20)\n",
    "plt.setp(ax.get_legend().get_texts(), fontsize='22') # for legend text\n",
    "plt.setp(ax.get_legend().get_title(), fontsize='32') # for legend title\n",
    "\n",
    "#plt.savefig(r'C:\\Users\\nmadhar\\Desktop\\Conv_deep\\Code\\FinalPaper\\Results\\BoxplotStocksImputPCavsAno.pdf')\n",
    "#plt.savefig(r'C:\\Users\\nmadhar\\Desktop\\Conv_deep\\Code\\FinalPaper\\Results\\BoxplotStocksImputPCAvsAno.png')\n",
    "\n",
    "\n",
    "plt.show()"
   ]
  }
 ],
 "metadata": {
  "kernelspec": {
   "display_name": "Python 3",
   "language": "python",
   "name": "python3"
  },
  "language_info": {
   "codemirror_mode": {
    "name": "ipython",
    "version": 3
   },
   "file_extension": ".py",
   "mimetype": "text/x-python",
   "name": "python",
   "nbconvert_exporter": "python",
   "pygments_lexer": "ipython3",
   "version": "3.7.3"
  }
 },
 "nbformat": 4,
 "nbformat_minor": 2
}
