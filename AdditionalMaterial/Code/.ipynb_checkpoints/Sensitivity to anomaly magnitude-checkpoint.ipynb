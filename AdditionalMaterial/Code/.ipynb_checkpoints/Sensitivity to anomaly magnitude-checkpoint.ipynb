{
 "cells": [
  {
   "cell_type": "code",
   "execution_count": 3,
   "metadata": {
    "ExecuteTime": {
     "end_time": "2022-10-04T14:01:40.110255Z",
     "start_time": "2022-10-04T14:01:40.099557Z"
    }
   },
   "outputs": [],
   "source": [
    "import pickle\n",
    "import numpy as np\n",
    "import pandas as pd\n",
    "import seaborn as sns\n",
    "from tqdm import tqdm\n",
    "from pandas import Series\n",
    "import numpy.linalg as npl\n",
    "from numpy import load,save \n",
    "from random import randrange\n",
    "import matplotlib.pyplot as plt\n",
    "from sklearn.decomposition import PCA\n",
    "from statsmodels.tsa.seasonal import STL\n",
    "from sklearn.metrics import accuracy_score\n",
    "from sklearn.neighbors import KernelDensity\n",
    "from sklearn.metrics import confusion_matrix\n",
    "from sklearn.metrics import precision_recall_curve\n",
    "from statsmodels.tsa.seasonal import seasonal_decompose\n",
    "plt.rcParams[\"figure.figsize\"] = (20,10)\n",
    "import warnings\n",
    "warnings.filterwarnings(\"ignore\")\n",
    "\n",
    "\n"
   ]
  },
  {
   "cell_type": "code",
   "execution_count": 4,
   "metadata": {
    "ExecuteTime": {
     "end_time": "2022-10-04T14:01:46.953614Z",
     "start_time": "2022-10-04T14:01:40.890756Z"
    }
   },
   "outputs": [],
   "source": [
    "plt.rcParams[\"figure.figsize\"] = (20,10)\n",
    "import sys \n",
    "sys.path.append(r'C:\\Users\\nmadhar\\Desktop\\Conv_deep\\ToSubmit\\Code')\n",
    "from pca_ad_utils import *\n",
    "from decomp_utils import *\n",
    "from customizedLossSynthetic import *\n",
    "from LocationAnomalyPCA import *\n",
    "from utilsImputation import *\n",
    "\n",
    "\n",
    "sys.path.append(r'C:\\Users\\nmadhar\\Desktop\\Conv_deep\\ToSubmit\\Code\\DataGenerator')\n",
    "from ParamsEstimationUtils import *\n",
    "sys.path.append(r'C:\\Users\\nmadhar\\Desktop\\Conv_deep\\ToSubmit\\Code\\DataGenerator')\n",
    "from syntheticDataGeneratorUtils import *\n",
    "\n",
    "sys.path.append(r'C:\\Users\\nmadhar\\Desktop\\Conv_deep\\Review\\Code')\n",
    "from sensitivity_amplishocks_utils import *\n",
    "\n",
    "sys.path.append(r'C:\\Users\\nmadhar\\Desktop\\Conv_deep\\ToSubmit\\Code')\n",
    "\n",
    "from LocationAnomalyPCA import *\n"
   ]
  },
  {
   "cell_type": "code",
   "execution_count": 5,
   "metadata": {
    "ExecuteTime": {
     "end_time": "2022-10-04T14:01:46.985018Z",
     "start_time": "2022-10-04T14:01:46.956753Z"
    }
   },
   "outputs": [],
   "source": [
    "nStocks = 20\n",
    "T = 1\n",
    "M = int(2.**10)\n",
    "Ntrain = int(2.**10)\n",
    "Ntest = int(2.**9)\n",
    "N = Ntrain + Ntest\n",
    "k=20\n",
    "\n",
    "alpha = 0.9\n",
    "windowSize = 206\n",
    "upBound=0.04\n",
    "AnoNumber = 5\n",
    "isimul = 0\n",
    "\n",
    "Cov = pd.read_csv(r'C:\\Users\\nmadhar\\Desktop\\Conv_deep\\ToSubmit\\Code\\DataGenerator\\Params\\Cov.csv').drop(['Unnamed: 0'],axis=1).values\n",
    "S0 = pd.read_csv(r'C:\\Users\\nmadhar\\Desktop\\Conv_deep\\ToSubmit\\Code\\DataGenerator\\Params\\S0.csv').drop(['Unnamed: 0'],axis=1).values.reshape(-1,)\n",
    "mu = pd.read_csv(r'C:\\Users\\nmadhar\\Desktop\\Conv_deep\\ToSubmit\\Code\\DataGenerator\\Params\\mu.csv').drop(['Unnamed: 0'],axis=1).values.reshape(-1,)\n",
    "sigma = pd.read_csv(r'C:\\Users\\nmadhar\\Desktop\\Conv_deep\\ToSubmit\\Code\\DataGenerator\\Params\\Sigma.csv').drop(['Unnamed: 0'],axis=1).values.reshape(-1,)\n"
   ]
  },
  {
   "cell_type": "code",
   "execution_count": 6,
   "metadata": {
    "ExecuteTime": {
     "end_time": "2022-10-04T14:01:47.000591Z",
     "start_time": "2022-10-04T14:01:46.986549Z"
    }
   },
   "outputs": [
    {
     "data": {
      "text/plain": [
       "<All keys matched successfully>"
      ]
     },
     "execution_count": 6,
     "metadata": {},
     "output_type": "execute_result"
    }
   ],
   "source": [
    "CalibParamsLoaded = load(r'C:\\Users\\nmadhar\\Desktop\\Conv_deep\\ToSubmit\\Results\\Model\\CalibParams2405_2.pkl',allow_pickle=True)\n",
    "netLoaded = NeuralNetwork()\n",
    "netLoaded.load_state_dict(torch.load(r'C:\\Users\\nmadhar\\Desktop\\Conv_deep\\ToSubmit\\Results\\Model\\modelCustomLoss2405_2.h5'))"
   ]
  },
  {
   "cell_type": "code",
   "execution_count": 7,
   "metadata": {
    "ExecuteTime": {
     "end_time": "2022-10-04T14:01:47.731877Z",
     "start_time": "2022-10-04T14:01:47.001989Z"
    }
   },
   "outputs": [
    {
     "name": "stdout",
     "output_type": "stream",
     "text": [
      "Normal observations in train set 6010\n",
      "Outlier observations in train set 6010 \n",
      "\n",
      "Normal observations in test set 2109\n",
      "Outlier observations in test set 421\n"
     ]
    }
   ],
   "source": [
    "X_trainUnderdf = pd.read_csv(r'C:\\Users\\nmadhar\\Desktop\\Conv_deep\\ToSubmit\\Data\\XTrainUnder.csv').drop(['Unnamed: 0'],axis=1)\n",
    "y_trainUnderdf = pd.read_csv(r'C:\\Users\\nmadhar\\Desktop\\Conv_deep\\ToSubmit\\Data\\yTrainUnder.csv').drop(['Unnamed: 0'],axis=1)\n",
    "\n",
    "X_testUnderdf = pd.read_csv(r'C:\\Users\\nmadhar\\Desktop\\Conv_deep\\ToSubmit\\Data\\XTestUnder.csv').drop(['Unnamed: 0'],axis=1)\n",
    "y_testUnderdf = pd.read_csv(r'C:\\Users\\nmadhar\\Desktop\\Conv_deep\\ToSubmit\\Data\\yTestUnder.csv').drop(['Unnamed: 0'],axis=1)\n",
    "X_trainUnder = np.array(X_trainUnderdf.iloc[:,:-3])\n",
    "X_testUnder = np.array(X_testUnderdf.iloc[:,:-3])\n",
    "\n",
    "y_trainUnder = np.array(y_trainUnderdf['NbAnomaly'])\n",
    "y_testUnder = np.array(y_testUnderdf['NbAnomaly'])\n",
    "ytrainUnder = np.array([1 if l==1 else 0 for l in y_trainUnder])\n",
    "ytestUnder = np.array([1 if l==1 else 0 for l in y_testUnder])\n",
    "\n",
    "print(f'Normal observations in train set {list(y_trainUnder).count(0)}')\n",
    "print(f'Outlier observations in train set {list(y_trainUnder).count(1)} \\n')\n",
    "\n",
    "print(f'Normal observations in test set {list(y_testUnder).count(0)}')\n",
    "print(f'Outlier observations in test set {list(y_testUnder).count(1)}')"
   ]
  },
  {
   "cell_type": "code",
   "execution_count": 8,
   "metadata": {
    "ExecuteTime": {
     "end_time": "2022-10-04T14:02:38.965849Z",
     "start_time": "2022-10-04T14:02:38.956749Z"
    }
   },
   "outputs": [],
   "source": [
    "nStocks = 20\n",
    "\n",
    "nSimultation = 100\n",
    "\n",
    "Sparams = [100,1]\n",
    "DriftParams = [0.01,0.1]\n",
    "SigmaParams = [0.01,0.1]\n",
    "T = 1\n",
    "Ntrain = int(2.**10)\n",
    "Ntest  = int(2.**9)\n",
    "\n",
    "\n",
    "alpha = 1\n",
    "windowSize = 206\n",
    "upBound = 0.04\n",
    "AnoNumberTrain = 4\n",
    "AnoNumberTest = 2\n",
    "ContaminationParams = [alpha,windowSize,upBound,AnoNumberTrain,AnoNumberTest]\n",
    "\n",
    "lag = 1\n",
    "SliddingParams = [windowSize,lag]\n",
    "\n",
    "ContaminationRate = 0.2\n",
    "UnderSampParams = [ContaminationRate]\n"
   ]
  },
  {
   "cell_type": "code",
   "execution_count": 64,
   "metadata": {
    "ExecuteTime": {
     "end_time": "2022-10-05T16:41:07.028849Z",
     "start_time": "2022-10-05T16:41:01.497177Z"
    }
   },
   "outputs": [
    {
     "name": "stdout",
     "output_type": "stream",
     "text": [
      "Normal observations in train set 5756\n",
      "Outlier observations in train set 5756 \n",
      "\n",
      "Normal observations in test set 2081\n",
      "Outlier observations in test set 416\n"
     ]
    }
   ],
   "source": [
    "\n",
    "\n",
    "iSimul = 1109\n",
    "DataIdentification, DataLocation,DataOriginal = GenerateData(nStocks,S0,mu,sigma,Cov,T,Ntrain,Ntest,iSimul,\n",
    "                     ContaminationParams, SliddingParams,UnderSampParams)\n",
    "\n",
    "XtrainUnderdf,ytrainUnderdf = DataIdentification['Train']\n",
    "XtestUnderdf,ytestUnderdf = DataIdentification['Test']\n",
    "\n",
    "XTrainLoc,yTrainLoc = DataLocation['Train']\n",
    "XTestLoc,yTestLoc = DataLocation['Test']\n",
    "\n",
    "\n",
    "X_trainUnder = np.array(XtrainUnderdf.iloc[:,:-3])\n",
    "X_testUnder = np.array(XtestUnderdf.iloc[:,:-3])\n",
    "\n",
    "y_trainUnder = np.array(ytrainUnderdf['NbAnomaly'])\n",
    "y_testUnder = np.array(ytestUnderdf['NbAnomaly'])\n",
    "ytrainUnder = np.array([1 if l==1 else 0 for l in y_trainUnder])\n",
    "ytestUnder = np.array([1 if l==1 else 0 for l in y_testUnder])\n",
    "\n",
    "print(f'Normal observations in train set {list(y_trainUnder).count(0)}')\n",
    "print(f'Outlier observations in train set {list(y_trainUnder).count(1)} \\n')\n",
    "\n",
    "print(f'Normal observations in test set {list(y_testUnder).count(0)}')\n",
    "print(f'Outlier observations in test set {list(y_testUnder).count(1)}')"
   ]
  },
  {
   "cell_type": "code",
   "execution_count": 9,
   "metadata": {
    "ExecuteTime": {
     "end_time": "2022-10-04T14:02:45.655526Z",
     "start_time": "2022-10-04T14:02:40.884372Z"
    }
   },
   "outputs": [
    {
     "name": "stdout",
     "output_type": "stream",
     "text": [
      "Normal observations in train set 5756\n",
      "Outlier observations in train set 5756 \n",
      "\n",
      "Normal observations in test set 2081\n",
      "Outlier observations in test set 416\n",
      "-------------------Scores on Train set-------------------\n",
      "Accuracy :  0.7999\n",
      "Precision :  0.7990\n",
      "Recall :  0.8013\n",
      "F1-score: 0.8001\n",
      "\n",
      "\n",
      "-------------------Scores on Test set-------------------\n",
      "Accuracy :  0.7857\n",
      "Precision :  0.4314\n",
      "Recall :  0.8990\n",
      "F1-score: 0.5830\n",
      "\n",
      "\n"
     ]
    }
   ],
   "source": [
    "\n",
    "\n",
    "\n",
    "\n",
    "model = PCA(n_components=k)\n",
    "model.fit(X_trainUnder)\n",
    "r_train = model.inverse_transform(model.transform(X_trainUnder))\n",
    "r_test = model.inverse_transform(model.transform(X_testUnder))\n",
    "\n",
    "# 1. Data Preparation for NN \n",
    "\n",
    "reconsRawTrain = r_train\n",
    "reconsRawTest = r_test\n",
    "\n",
    "\n",
    "reconsRawTrain = torch.tensor(reconsRawTrain)\n",
    "ytrain = torch.tensor(ytrainUnder.reshape(-1,1))\n",
    "\n",
    "\n",
    "reconsRawTest = torch.tensor(reconsRawTest)\n",
    "ytest = torch.tensor(ytestUnder.reshape(-1,1))\n",
    "xtrain = np.array(X_trainUnder,dtype=float)\n",
    "ytrain = np.array(y_trainUnder,dtype=float)\n",
    "\n",
    "xtest = np.array(X_testUnder,dtype=float)\n",
    "ytest = np.array(y_testUnder,dtype=float)\n",
    "\n",
    "xtrain = torch.tensor(xtrain)\n",
    "ytrain = torch.tensor(ytrain.reshape(-1,1))\n",
    "\n",
    "\n",
    "xtest = torch.tensor(xtest)\n",
    "ytest = torch.tensor(ytest.reshape(-1,1))\n",
    "\n",
    "ErrRawTrain = xtrain - reconsRawTrain\n",
    "ErrRawTrain = torch.tensor(ErrRawTrain)\n",
    "\n",
    "ErrRawTest = xtest - reconsRawTest\n",
    "ErrRawTest = torch.tensor(ErrRawTest)\n",
    "\n",
    "\n",
    "STrain,scoresTrain  = evalPerf(netLoaded,ErrRawTrain,ytrain,'Train',CalibParamsLoaded)\n",
    "STest,scoresTest  = evalPerf(netLoaded,ErrRawTest,ytest,'Test',CalibParamsLoaded)\n",
    "\n",
    "\n"
   ]
  },
  {
   "cell_type": "markdown",
   "metadata": {},
   "source": [
    "## Sensitivity Analysis Identification Step"
   ]
  },
  {
   "cell_type": "code",
   "execution_count": 10,
   "metadata": {
    "ExecuteTime": {
     "end_time": "2022-10-04T14:02:51.275142Z",
     "start_time": "2022-10-04T14:02:50.156216Z"
    }
   },
   "outputs": [],
   "source": [
    "set_ = 'Train'\n",
    "dataIDwoAno,dataIDAnoOnly,TrackidAnoID,Labels_Loc = SelectTSAno(set_,DataIdentification,DataOriginal)\n",
    "PredLabelsAno = SelectPredAno(STrain,CalibParamsLoaded,DataIdentification[set_][0].TrackID.values,TrackidAnoID)\n",
    "amplitudeAno,AnoShocksRepartitiondf = summaryShockAmplitude(dataIDwoAno,dataIDAnoOnly,Labels_Loc)\n",
    "idxSTAnoGroupsPredDF = summaryPredContaminated_wrt_shocksAmplitudeRange(amplitudeAno,PredLabelsAno,Labels_Loc,'ID')"
   ]
  },
  {
   "cell_type": "code",
   "execution_count": 11,
   "metadata": {
    "ExecuteTime": {
     "end_time": "2022-10-04T14:02:52.313652Z",
     "start_time": "2022-10-04T14:02:52.288054Z"
    }
   },
   "outputs": [
    {
     "data": {
      "text/html": [
       "<div>\n",
       "<style scoped>\n",
       "    .dataframe tbody tr th:only-of-type {\n",
       "        vertical-align: middle;\n",
       "    }\n",
       "\n",
       "    .dataframe tbody tr th {\n",
       "        vertical-align: top;\n",
       "    }\n",
       "\n",
       "    .dataframe thead th {\n",
       "        text-align: right;\n",
       "    }\n",
       "</style>\n",
       "<table border=\"1\" class=\"dataframe\">\n",
       "  <thead>\n",
       "    <tr style=\"text-align: right;\">\n",
       "      <th></th>\n",
       "      <th>Min-q25</th>\n",
       "      <th>q25-q50</th>\n",
       "      <th>q50-q75</th>\n",
       "      <th>q75-max</th>\n",
       "    </tr>\n",
       "  </thead>\n",
       "  <tbody>\n",
       "    <tr>\n",
       "      <th>Contaminated</th>\n",
       "      <td>638.0</td>\n",
       "      <td>1197.0</td>\n",
       "      <td>1437.0</td>\n",
       "      <td>1340.0</td>\n",
       "    </tr>\n",
       "    <tr>\n",
       "      <th>UnContaminated</th>\n",
       "      <td>865.0</td>\n",
       "      <td>246.0</td>\n",
       "      <td>25.0</td>\n",
       "      <td>8.0</td>\n",
       "    </tr>\n",
       "    <tr>\n",
       "      <th># TS</th>\n",
       "      <td>1503.0</td>\n",
       "      <td>1443.0</td>\n",
       "      <td>1462.0</td>\n",
       "      <td>1348.0</td>\n",
       "    </tr>\n",
       "  </tbody>\n",
       "</table>\n",
       "</div>"
      ],
      "text/plain": [
       "                Min-q25  q25-q50  q50-q75  q75-max\n",
       "Contaminated      638.0   1197.0   1437.0   1340.0\n",
       "UnContaminated    865.0    246.0     25.0      8.0\n",
       "# TS             1503.0   1443.0   1462.0   1348.0"
      ]
     },
     "execution_count": 11,
     "metadata": {},
     "output_type": "execute_result"
    }
   ],
   "source": [
    "idxSTAnoGroupsPredDF.loc[\"# TS\",:] =  AnoShocksRepartitiondf.loc[\"# TS\",:].values\n",
    "idxSTAnoGroupsPredDF"
   ]
  },
  {
   "cell_type": "code",
   "execution_count": 12,
   "metadata": {
    "ExecuteTime": {
     "end_time": "2022-10-04T14:02:53.230275Z",
     "start_time": "2022-10-04T14:02:53.207629Z"
    }
   },
   "outputs": [
    {
     "data": {
      "text/html": [
       "<div>\n",
       "<style scoped>\n",
       "    .dataframe tbody tr th:only-of-type {\n",
       "        vertical-align: middle;\n",
       "    }\n",
       "\n",
       "    .dataframe tbody tr th {\n",
       "        vertical-align: top;\n",
       "    }\n",
       "\n",
       "    .dataframe thead th {\n",
       "        text-align: right;\n",
       "    }\n",
       "</style>\n",
       "<table border=\"1\" class=\"dataframe\">\n",
       "  <thead>\n",
       "    <tr style=\"text-align: right;\">\n",
       "      <th></th>\n",
       "      <th>Min-q25</th>\n",
       "      <th>q25-q50</th>\n",
       "      <th>q50-q75</th>\n",
       "      <th>q75-max</th>\n",
       "    </tr>\n",
       "  </thead>\n",
       "  <tbody>\n",
       "    <tr>\n",
       "      <th>Contaminated</th>\n",
       "      <td>638.0</td>\n",
       "      <td>1197.0</td>\n",
       "      <td>1437.0</td>\n",
       "      <td>1340.0</td>\n",
       "    </tr>\n",
       "    <tr>\n",
       "      <th>UnContaminated</th>\n",
       "      <td>865.0</td>\n",
       "      <td>246.0</td>\n",
       "      <td>25.0</td>\n",
       "      <td>8.0</td>\n",
       "    </tr>\n",
       "    <tr>\n",
       "      <th># TS</th>\n",
       "      <td>1503.0</td>\n",
       "      <td>1443.0</td>\n",
       "      <td>1462.0</td>\n",
       "      <td>1348.0</td>\n",
       "    </tr>\n",
       "  </tbody>\n",
       "</table>\n",
       "</div>"
      ],
      "text/plain": [
       "                Min-q25  q25-q50  q50-q75  q75-max\n",
       "Contaminated      638.0   1197.0   1437.0   1340.0\n",
       "UnContaminated    865.0    246.0     25.0      8.0\n",
       "# TS             1503.0   1443.0   1462.0   1348.0"
      ]
     },
     "execution_count": 12,
     "metadata": {},
     "output_type": "execute_result"
    }
   ],
   "source": [
    "idxSTAnoGroupsPredDF.loc[\"# TS\",:] =  AnoShocksRepartitiondf.loc[\"# TS\",:].values\n",
    "idxSTAnoGroupsPredDF"
   ]
  },
  {
   "cell_type": "code",
   "execution_count": 13,
   "metadata": {
    "ExecuteTime": {
     "end_time": "2022-10-04T14:02:53.710306Z",
     "start_time": "2022-10-04T14:02:53.692669Z"
    }
   },
   "outputs": [
    {
     "data": {
      "text/plain": [
       "0.8012508686587908"
      ]
     },
     "execution_count": 13,
     "metadata": {},
     "output_type": "execute_result"
    }
   ],
   "source": [
    "idxSTAnoGroupsPredDF.loc['Contaminated',:].values.sum()/AnoShocksRepartitiondf.loc['# TS',:].values.sum()"
   ]
  },
  {
   "cell_type": "code",
   "execution_count": 14,
   "metadata": {
    "ExecuteTime": {
     "end_time": "2022-10-04T14:02:54.255663Z",
     "start_time": "2022-10-04T14:02:54.132960Z"
    }
   },
   "outputs": [],
   "source": [
    "set_ = 'Test'\n",
    "dataIDwoAno,dataIDAnoOnly,TrackidAnoID,Labels_Loc = SelectTSAno(set_,DataIdentification,DataOriginal)\n",
    "PredLabelsAno = SelectPredAno(STest,CalibParamsLoaded,DataIdentification[set_][0].TrackID.values,TrackidAnoID)\n",
    "amplitudeAno,AnoShocksRepartitiondf = summaryShockAmplitude(dataIDwoAno,dataIDAnoOnly,Labels_Loc)\n",
    "idxSTAnoGroupsPredDF = summaryPredContaminated_wrt_shocksAmplitudeRange(amplitudeAno,PredLabelsAno,Labels_Loc,'ID')"
   ]
  },
  {
   "cell_type": "code",
   "execution_count": 15,
   "metadata": {
    "ExecuteTime": {
     "end_time": "2022-10-04T14:02:54.704403Z",
     "start_time": "2022-10-04T14:02:54.682004Z"
    }
   },
   "outputs": [
    {
     "data": {
      "text/html": [
       "<div>\n",
       "<style scoped>\n",
       "    .dataframe tbody tr th:only-of-type {\n",
       "        vertical-align: middle;\n",
       "    }\n",
       "\n",
       "    .dataframe tbody tr th {\n",
       "        vertical-align: top;\n",
       "    }\n",
       "\n",
       "    .dataframe thead th {\n",
       "        text-align: right;\n",
       "    }\n",
       "</style>\n",
       "<table border=\"1\" class=\"dataframe\">\n",
       "  <thead>\n",
       "    <tr style=\"text-align: right;\">\n",
       "      <th></th>\n",
       "      <th>Min-q25</th>\n",
       "      <th>q25-q50</th>\n",
       "      <th>q50-q75</th>\n",
       "      <th>q75-max</th>\n",
       "    </tr>\n",
       "  </thead>\n",
       "  <tbody>\n",
       "    <tr>\n",
       "      <th>Contaminated</th>\n",
       "      <td>85.0</td>\n",
       "      <td>97.0</td>\n",
       "      <td>98.0</td>\n",
       "      <td>94.0</td>\n",
       "    </tr>\n",
       "    <tr>\n",
       "      <th>UnContaminated</th>\n",
       "      <td>26.0</td>\n",
       "      <td>10.0</td>\n",
       "      <td>4.0</td>\n",
       "      <td>2.0</td>\n",
       "    </tr>\n",
       "    <tr>\n",
       "      <th># TS</th>\n",
       "      <td>111.0</td>\n",
       "      <td>107.0</td>\n",
       "      <td>102.0</td>\n",
       "      <td>96.0</td>\n",
       "    </tr>\n",
       "  </tbody>\n",
       "</table>\n",
       "</div>"
      ],
      "text/plain": [
       "                Min-q25  q25-q50  q50-q75  q75-max\n",
       "Contaminated       85.0     97.0     98.0     94.0\n",
       "UnContaminated     26.0     10.0      4.0      2.0\n",
       "# TS              111.0    107.0    102.0     96.0"
      ]
     },
     "execution_count": 15,
     "metadata": {},
     "output_type": "execute_result"
    }
   ],
   "source": [
    "idxSTAnoGroupsPredDF.loc[\"# TS\",:] =  AnoShocksRepartitiondf.loc[\"# TS\",:].values\n",
    "idxSTAnoGroupsPredDF"
   ]
  },
  {
   "cell_type": "code",
   "execution_count": 16,
   "metadata": {
    "ExecuteTime": {
     "end_time": "2022-10-04T14:02:55.000623Z",
     "start_time": "2022-10-04T14:02:54.988756Z"
    }
   },
   "outputs": [
    {
     "data": {
      "text/html": [
       "<div>\n",
       "<style scoped>\n",
       "    .dataframe tbody tr th:only-of-type {\n",
       "        vertical-align: middle;\n",
       "    }\n",
       "\n",
       "    .dataframe tbody tr th {\n",
       "        vertical-align: top;\n",
       "    }\n",
       "\n",
       "    .dataframe thead th {\n",
       "        text-align: right;\n",
       "    }\n",
       "</style>\n",
       "<table border=\"1\" class=\"dataframe\">\n",
       "  <thead>\n",
       "    <tr style=\"text-align: right;\">\n",
       "      <th></th>\n",
       "      <th>Amplitude Range</th>\n",
       "      <th>Ratio</th>\n",
       "    </tr>\n",
       "  </thead>\n",
       "  <tbody>\n",
       "    <tr>\n",
       "      <th>0</th>\n",
       "      <td>[3.087e-03, 1.464e-02]</td>\n",
       "      <td>0.765766</td>\n",
       "    </tr>\n",
       "    <tr>\n",
       "      <th>1</th>\n",
       "      <td>[1.464e-02, 2.336e-02]</td>\n",
       "      <td>0.906542</td>\n",
       "    </tr>\n",
       "    <tr>\n",
       "      <th>2</th>\n",
       "      <td>[2.336e-02, 2.917e-02]</td>\n",
       "      <td>0.960784</td>\n",
       "    </tr>\n",
       "    <tr>\n",
       "      <th>3</th>\n",
       "      <td>[2.917e-02, 3.776e-02]</td>\n",
       "      <td>0.979167</td>\n",
       "    </tr>\n",
       "  </tbody>\n",
       "</table>\n",
       "</div>"
      ],
      "text/plain": [
       "          Amplitude Range     Ratio\n",
       "0  [3.087e-03, 1.464e-02]  0.765766\n",
       "1  [1.464e-02, 2.336e-02]  0.906542\n",
       "2  [2.336e-02, 2.917e-02]  0.960784\n",
       "3  [2.917e-02, 3.776e-02]  0.979167"
      ]
     },
     "execution_count": 16,
     "metadata": {},
     "output_type": "execute_result"
    }
   ],
   "source": [
    "ResTable(amplitudeAno,idxSTAnoGroupsPredDF)"
   ]
  },
  {
   "cell_type": "markdown",
   "metadata": {},
   "source": [
    "## Sensitivity Analysis Localization Step"
   ]
  },
  {
   "cell_type": "code",
   "execution_count": 17,
   "metadata": {
    "ExecuteTime": {
     "end_time": "2022-10-04T14:02:58.326055Z",
     "start_time": "2022-10-04T14:02:55.805456Z"
    }
   },
   "outputs": [],
   "source": [
    "Xtrain = np.array(XTrainLoc.iloc[:,:-3])\n",
    "Xtest = np.array(XTestLoc.iloc[:,:-3])\n",
    "\n",
    "ytrain_loc = [list(yTrainLoc.iloc[i,:]).index(1)for i in range(yTrainLoc.shape[0]) ]\n",
    "\n",
    "ytest_loc = [list(yTestLoc.iloc[i,:]).index(1) for i in range(yTestLoc.shape[0]) ]\n",
    "ntrain,d = Xtrain.shape\n",
    "ntest = Xtest.shape[0]\n",
    "k = 20"
   ]
  },
  {
   "cell_type": "code",
   "execution_count": 18,
   "metadata": {
    "ExecuteTime": {
     "end_time": "2022-10-04T14:03:00.783111Z",
     "start_time": "2022-10-04T14:02:59.404432Z"
    }
   },
   "outputs": [
    {
     "name": "stderr",
     "output_type": "stream",
     "text": [
      "100%|███████████████████████████████████████| 7820/7820 [00:00<00:00, 10338.86it/s]\n",
      "100%|████████████████████████████████████████| 4059/4059 [00:00<00:00, 9936.35it/s]\n"
     ]
    },
    {
     "name": "stdout",
     "output_type": "stream",
     "text": [
      "------------Scores on Train-------------\n",
      "Accuracy: 0.9328644501278772\n",
      "Recall: 0.9328644501278772\n",
      "Precision: 0.9348409017269796\n",
      "F1-score: 0.9333091219832893\n",
      "\n",
      "------------Scores on Test-------------\n",
      "Accuracy: 0.9652623798965262\n",
      "Recall: 0.9652623798965262\n",
      "Precision: 0.9668861366662755\n",
      "F1-score: 0.9656111158148158\n",
      "\n"
     ]
    },
    {
     "data": {
      "text/plain": [
       "0"
      ]
     },
     "execution_count": 18,
     "metadata": {},
     "output_type": "execute_result"
    }
   ],
   "source": [
    "# with PCA approach\n",
    "norms_train, norms_test =  modelPCALocation(Xtrain,Xtest,k)\n",
    "\n",
    "pred_loc_train = dummyprediction(norms_train)\n",
    "ScoresTrainPCA = EvaluationPred(yPred = pred_loc_train,yTrue=ytrain_loc)\n",
    "\n",
    "pred_loc_test = dummyprediction(norms_test)\n",
    "ScoresTestPCA = EvaluationPred(yPred = pred_loc_test,yTrue=ytest_loc)\n",
    "\n",
    "\n",
    "printRes(ScoresTrainPCA,'Train')\n",
    "printRes(ScoresTestPCA,'Test')"
   ]
  },
  {
   "cell_type": "code",
   "execution_count": 19,
   "metadata": {
    "ExecuteTime": {
     "end_time": "2022-10-04T14:03:03.899026Z",
     "start_time": "2022-10-04T14:03:02.697590Z"
    }
   },
   "outputs": [],
   "source": [
    "set_ = 'Train'\n",
    "dataIDwoAno,dataIDAnoOnly,TrackidAnoID,Labels_Loc = SelectTSAno(set_,DataLocation,DataOriginal)\n",
    "PredLabelsAno = SelectPredAno(pred_loc_train,CalibParamsLoaded,DataLocation[set_][0].TrackID.values,TrackidAnoID,'Loc')\n",
    "amplitudeAno,AnoShocksRepartitiondf = summaryShockAmplitude(dataIDwoAno,dataIDAnoOnly,Labels_Loc)\n",
    "idxSTAnoGroupsPredDF = summaryPredContaminated_wrt_shocksAmplitudeRange(amplitudeAno,PredLabelsAno,Labels_Loc,'Loc')"
   ]
  },
  {
   "cell_type": "code",
   "execution_count": 20,
   "metadata": {
    "ExecuteTime": {
     "end_time": "2022-10-04T14:03:03.914785Z",
     "start_time": "2022-10-04T14:03:03.901097Z"
    }
   },
   "outputs": [
    {
     "data": {
      "text/html": [
       "<div>\n",
       "<style scoped>\n",
       "    .dataframe tbody tr th:only-of-type {\n",
       "        vertical-align: middle;\n",
       "    }\n",
       "\n",
       "    .dataframe tbody tr th {\n",
       "        vertical-align: top;\n",
       "    }\n",
       "\n",
       "    .dataframe thead th {\n",
       "        text-align: right;\n",
       "    }\n",
       "</style>\n",
       "<table border=\"1\" class=\"dataframe\">\n",
       "  <thead>\n",
       "    <tr style=\"text-align: right;\">\n",
       "      <th></th>\n",
       "      <th>Min-q25</th>\n",
       "      <th>q25-q50</th>\n",
       "      <th>q50-q75</th>\n",
       "      <th>q75-max</th>\n",
       "    </tr>\n",
       "  </thead>\n",
       "  <tbody>\n",
       "    <tr>\n",
       "      <th>Contaminated</th>\n",
       "      <td>1542.0</td>\n",
       "      <td>1972.0</td>\n",
       "      <td>1970.0</td>\n",
       "      <td>1811.0</td>\n",
       "    </tr>\n",
       "    <tr>\n",
       "      <th>UnContaminated</th>\n",
       "      <td>521.0</td>\n",
       "      <td>4.0</td>\n",
       "      <td>0.0</td>\n",
       "      <td>0.0</td>\n",
       "    </tr>\n",
       "    <tr>\n",
       "      <th># TS</th>\n",
       "      <td>2063.0</td>\n",
       "      <td>1976.0</td>\n",
       "      <td>1970.0</td>\n",
       "      <td>1811.0</td>\n",
       "    </tr>\n",
       "  </tbody>\n",
       "</table>\n",
       "</div>"
      ],
      "text/plain": [
       "                Min-q25  q25-q50  q50-q75  q75-max\n",
       "Contaminated     1542.0   1972.0   1970.0   1811.0\n",
       "UnContaminated    521.0      4.0      0.0      0.0\n",
       "# TS             2063.0   1976.0   1970.0   1811.0"
      ]
     },
     "execution_count": 20,
     "metadata": {},
     "output_type": "execute_result"
    }
   ],
   "source": [
    "idxSTAnoGroupsPredDF.loc[\"# TS\",:] =  AnoShocksRepartitiondf.loc[\"# TS\",:].values\n",
    "idxSTAnoGroupsPredDF"
   ]
  },
  {
   "cell_type": "code",
   "execution_count": 21,
   "metadata": {
    "ExecuteTime": {
     "end_time": "2022-10-04T14:03:05.831427Z",
     "start_time": "2022-10-04T14:03:05.192493Z"
    }
   },
   "outputs": [],
   "source": [
    "set_ = 'Test'\n",
    "dataIDwoAno,dataIDAnoOnly,TrackidAnoID,Labels_Loc = SelectTSAno(set_,DataLocation,DataOriginal)\n",
    "PredLabelsAno = SelectPredAno(pred_loc_test,CalibParamsLoaded,DataLocation[set_][0].TrackID.values,TrackidAnoID,'Loc')\n",
    "amplitudeAno,AnoShocksRepartitiondf = summaryShockAmplitude(dataIDwoAno,dataIDAnoOnly,Labels_Loc)\n",
    "idxSTAnoGroupsPredDF = summaryPredContaminated_wrt_shocksAmplitudeRange(amplitudeAno,PredLabelsAno,Labels_Loc,'Loc')"
   ]
  },
  {
   "cell_type": "code",
   "execution_count": 22,
   "metadata": {
    "ExecuteTime": {
     "end_time": "2022-10-04T14:03:06.001188Z",
     "start_time": "2022-10-04T14:03:05.991454Z"
    }
   },
   "outputs": [
    {
     "data": {
      "text/html": [
       "<div>\n",
       "<style scoped>\n",
       "    .dataframe tbody tr th:only-of-type {\n",
       "        vertical-align: middle;\n",
       "    }\n",
       "\n",
       "    .dataframe tbody tr th {\n",
       "        vertical-align: top;\n",
       "    }\n",
       "\n",
       "    .dataframe thead th {\n",
       "        text-align: right;\n",
       "    }\n",
       "</style>\n",
       "<table border=\"1\" class=\"dataframe\">\n",
       "  <thead>\n",
       "    <tr style=\"text-align: right;\">\n",
       "      <th></th>\n",
       "      <th>Min-q25</th>\n",
       "      <th>q25-q50</th>\n",
       "      <th>q50-q75</th>\n",
       "      <th>q75-max</th>\n",
       "    </tr>\n",
       "  </thead>\n",
       "  <tbody>\n",
       "    <tr>\n",
       "      <th>Contaminated</th>\n",
       "      <td>880.0</td>\n",
       "      <td>1020.0</td>\n",
       "      <td>1056.0</td>\n",
       "      <td>962.0</td>\n",
       "    </tr>\n",
       "    <tr>\n",
       "      <th>UnContaminated</th>\n",
       "      <td>141.0</td>\n",
       "      <td>0.0</td>\n",
       "      <td>0.0</td>\n",
       "      <td>0.0</td>\n",
       "    </tr>\n",
       "    <tr>\n",
       "      <th># TS</th>\n",
       "      <td>1021.0</td>\n",
       "      <td>1020.0</td>\n",
       "      <td>1056.0</td>\n",
       "      <td>962.0</td>\n",
       "    </tr>\n",
       "  </tbody>\n",
       "</table>\n",
       "</div>"
      ],
      "text/plain": [
       "                Min-q25  q25-q50  q50-q75  q75-max\n",
       "Contaminated      880.0   1020.0   1056.0    962.0\n",
       "UnContaminated    141.0      0.0      0.0      0.0\n",
       "# TS             1021.0   1020.0   1056.0    962.0"
      ]
     },
     "execution_count": 22,
     "metadata": {},
     "output_type": "execute_result"
    }
   ],
   "source": [
    "idxSTAnoGroupsPredDF.loc[\"# TS\",:] =  AnoShocksRepartitiondf.loc[\"# TS\",:].values\n",
    "idxSTAnoGroupsPredDF"
   ]
  },
  {
   "cell_type": "code",
   "execution_count": 23,
   "metadata": {
    "ExecuteTime": {
     "end_time": "2022-10-04T14:03:06.543836Z",
     "start_time": "2022-10-04T14:03:06.528068Z"
    }
   },
   "outputs": [
    {
     "data": {
      "text/html": [
       "<div>\n",
       "<style scoped>\n",
       "    .dataframe tbody tr th:only-of-type {\n",
       "        vertical-align: middle;\n",
       "    }\n",
       "\n",
       "    .dataframe tbody tr th {\n",
       "        vertical-align: top;\n",
       "    }\n",
       "\n",
       "    .dataframe thead th {\n",
       "        text-align: right;\n",
       "    }\n",
       "</style>\n",
       "<table border=\"1\" class=\"dataframe\">\n",
       "  <thead>\n",
       "    <tr style=\"text-align: right;\">\n",
       "      <th></th>\n",
       "      <th>Amplitude Range</th>\n",
       "      <th>Ratio</th>\n",
       "    </tr>\n",
       "  </thead>\n",
       "  <tbody>\n",
       "    <tr>\n",
       "      <th>0</th>\n",
       "      <td>[3.087e-03, 1.307e-02]</td>\n",
       "      <td>0.8619</td>\n",
       "    </tr>\n",
       "    <tr>\n",
       "      <th>1</th>\n",
       "      <td>[1.307e-02, 2.285e-02]</td>\n",
       "      <td>1.0000</td>\n",
       "    </tr>\n",
       "    <tr>\n",
       "      <th>2</th>\n",
       "      <td>[2.285e-02, 2.883e-02]</td>\n",
       "      <td>1.0000</td>\n",
       "    </tr>\n",
       "    <tr>\n",
       "      <th>3</th>\n",
       "      <td>[2.883e-02, 3.776e-02]</td>\n",
       "      <td>1.0000</td>\n",
       "    </tr>\n",
       "  </tbody>\n",
       "</table>\n",
       "</div>"
      ],
      "text/plain": [
       "          Amplitude Range   Ratio\n",
       "0  [3.087e-03, 1.307e-02]  0.8619\n",
       "1  [1.307e-02, 2.285e-02]  1.0000\n",
       "2  [2.285e-02, 2.883e-02]  1.0000\n",
       "3  [2.883e-02, 3.776e-02]  1.0000"
      ]
     },
     "execution_count": 23,
     "metadata": {},
     "output_type": "execute_result"
    }
   ],
   "source": [
    "ResTable(amplitudeAno,idxSTAnoGroupsPredDF)"
   ]
  },
  {
   "cell_type": "code",
   "execution_count": 61,
   "metadata": {
    "ExecuteTime": {
     "end_time": "2022-10-04T14:22:01.886845Z",
     "start_time": "2022-10-04T14:22:01.406969Z"
    }
   },
   "outputs": [
    {
     "name": "stdout",
     "output_type": "stream",
     "text": [
      "Accuracy on Train 0.001534526854219949\n",
      "Accuracy on Train 0.0027100271002710027\n"
     ]
    }
   ],
   "source": [
    "def quantileDetection(X,y,alpha):\n",
    "    idx = []\n",
    "    for i in range(X.shape[0]):\n",
    "        predquantile = np.quantile(abs(X[i,:]),alpha,interpolation='lower')\n",
    "        trueAno = X[i,y[i]]\n",
    "        if trueAno == predquantile:\n",
    "            idx.append(i)\n",
    "    return idx\n",
    "alpha = 0.99\n",
    "idxTrain =quantileDetection(Xtrain,ytrain_loc,alpha)\n",
    "idxTest =quantileDetection(Xtest,ytest_loc,alpha)\n",
    "\n",
    "print(f'Accuracy on Train {len(idxTrain)/Xtrain.shape[0]}')\n",
    "print(f'Accuracy on Train {len(idxTest)/Xtest.shape[0]}')"
   ]
  }
 ],
 "metadata": {
  "kernelspec": {
   "display_name": "Python 3",
   "language": "python",
   "name": "python3"
  },
  "language_info": {
   "codemirror_mode": {
    "name": "ipython",
    "version": 3
   },
   "file_extension": ".py",
   "mimetype": "text/x-python",
   "name": "python",
   "nbconvert_exporter": "python",
   "pygments_lexer": "ipython3",
   "version": "3.7.3"
  }
 },
 "nbformat": 4,
 "nbformat_minor": 2
}
