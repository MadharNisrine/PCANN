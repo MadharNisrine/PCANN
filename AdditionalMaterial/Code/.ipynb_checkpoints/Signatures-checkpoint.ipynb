{
 "cells": [
  {
   "cell_type": "code",
   "execution_count": 16,
   "metadata": {
    "ExecuteTime": {
     "end_time": "2022-09-29T08:06:45.643898Z",
     "start_time": "2022-09-29T08:06:45.625414Z"
    }
   },
   "outputs": [],
   "source": [
    "import numpy as np\n",
    "import esig.tosig as ts\n",
    "import esig\n",
    "from sklearn.neighbors import LocalOutlierFactor\n",
    "from sklearn.cluster import DBSCAN\n",
    "from sklearn.ensemble import IsolationForest\n",
    "from sklearn.neighbors import KNeighborsClassifier #Supervised\n",
    "from sklearn.neural_network import MLPClassifier\n",
    "\n",
    "from iisignature import sig\n",
    "\n"
   ]
  },
  {
   "cell_type": "code",
   "execution_count": 17,
   "metadata": {
    "ExecuteTime": {
     "end_time": "2022-09-29T08:06:46.125020Z",
     "start_time": "2022-09-29T08:06:46.092686Z"
    }
   },
   "outputs": [],
   "source": [
    "import pickle\n",
    "import numpy as np\n",
    "import pandas as pd\n",
    "import seaborn as sns\n",
    "from tqdm import tqdm\n",
    "from pandas import Series\n",
    "import numpy.linalg as npl\n",
    "from numpy import load,save \n",
    "from random import randrange\n",
    "import matplotlib.pyplot as plt\n",
    "from sklearn.decomposition import PCA\n",
    "from statsmodels.tsa.seasonal import STL\n",
    "from sklearn.metrics import accuracy_score\n",
    "from sklearn.neighbors import KernelDensity\n",
    "from sklearn.metrics import confusion_matrix\n",
    "from sklearn.metrics import precision_recall_curve\n",
    "from statsmodels.tsa.seasonal import seasonal_decompose\n",
    "plt.rcParams[\"figure.figsize\"] = (20,10)\n",
    "import warnings\n",
    "warnings.filterwarnings(\"ignore\")"
   ]
  },
  {
   "cell_type": "code",
   "execution_count": 18,
   "metadata": {
    "ExecuteTime": {
     "end_time": "2022-09-29T08:06:47.262424Z",
     "start_time": "2022-09-29T08:06:47.246536Z"
    }
   },
   "outputs": [],
   "source": [
    "import sys\n",
    "sys.path.append(r'C:\\Users\\nmadhar\\Desktop\\Conv_deep\\ToSubmit\\Code')\n",
    "\n",
    "from pca_ad_utils import *\n",
    "from decomp_utils import *\n",
    "\n",
    "from customizedLossSynthetic import *\n"
   ]
  },
  {
   "cell_type": "code",
   "execution_count": 19,
   "metadata": {
    "ExecuteTime": {
     "end_time": "2022-09-29T08:06:49.174562Z",
     "start_time": "2022-09-29T08:06:47.602550Z"
    }
   },
   "outputs": [
    {
     "name": "stdout",
     "output_type": "stream",
     "text": [
      "Normal observations in train set 6010\n",
      "Outlier observations in train set 6010 \n",
      "\n",
      "Normal observations in test set 2109\n",
      "Outlier observations in test set 421\n"
     ]
    }
   ],
   "source": [
    "X_trainUnderdf = pd.read_csv(r'C:\\Users\\nmadhar\\Desktop\\Conv_deep\\ToSubmit\\Data\\XTrainUnder.csv').drop(['Unnamed: 0'],axis=1)\n",
    "y_trainUnderdf = pd.read_csv(r'C:\\Users\\nmadhar\\Desktop\\Conv_deep\\ToSubmit\\Data\\yTrainUnder.csv').drop(['Unnamed: 0'],axis=1)\n",
    "\n",
    "X_testUnderdf = pd.read_csv(r'C:\\Users\\nmadhar\\Desktop\\Conv_deep\\ToSubmit\\Data\\XTestUnder.csv').drop(['Unnamed: 0'],axis=1)\n",
    "y_testUnderdf = pd.read_csv(r'C:\\Users\\nmadhar\\Desktop\\Conv_deep\\ToSubmit\\Data\\yTestUnder.csv').drop(['Unnamed: 0'],axis=1)\n",
    "X_trainUnder = np.array(X_trainUnderdf.iloc[:,:-3])\n",
    "X_testUnder = np.array(X_testUnderdf.iloc[:,:-3])\n",
    "\n",
    "y_trainUnder = np.array(y_trainUnderdf['NbAnomaly'])\n",
    "y_testUnder = np.array(y_testUnderdf['NbAnomaly'])\n",
    "ytrainUnder = np.array([1 if l==1 else 0 for l in y_trainUnder])\n",
    "ytestUnder = np.array([1 if l==1 else 0 for l in y_testUnder])\n",
    "\n",
    "print(f'Normal observations in train set {list(y_trainUnder).count(0)}')\n",
    "print(f'Outlier observations in train set {list(y_trainUnder).count(1)} \\n')\n",
    "\n",
    "print(f'Normal observations in test set {list(y_testUnder).count(0)}')\n",
    "print(f'Outlier observations in test set {list(y_testUnder).count(1)}')"
   ]
  },
  {
   "cell_type": "code",
   "execution_count": 35,
   "metadata": {
    "ExecuteTime": {
     "end_time": "2022-09-29T09:44:12.628120Z",
     "start_time": "2022-09-29T09:44:12.236663Z"
    }
   },
   "outputs": [
    {
     "data": {
      "text/plain": [
       "array([[ 2.05000000e+02,  8.20871858e-01,  2.10125000e+04,\n",
       "        -3.21114838e+01,  2.00390215e+02,  3.36915303e-01],\n",
       "       [ 2.05000000e+02,  8.28390405e-01,  2.10125000e+04,\n",
       "        -5.34515319e+01,  2.23271565e+02,  3.43115332e-01],\n",
       "       [ 2.05000000e+02,  1.08365037e+00,  2.10125000e+04,\n",
       "        -2.11495929e+01,  2.43297919e+02,  5.87149064e-01],\n",
       "       ...,\n",
       "       [ 2.05000000e+02,  7.14680655e-01,  2.10125000e+04,\n",
       "         7.63369874e+01,  7.01725468e+01,  2.55384219e-01],\n",
       "       [ 2.05000000e+02,  7.82224784e-01,  2.10125000e+04,\n",
       "         8.81677247e+01,  7.21883561e+01,  3.05937806e-01],\n",
       "       [ 2.05000000e+02,  7.36761215e-01,  2.10125000e+04,\n",
       "         8.02885652e+01,  7.07474839e+01,  2.71408544e-01]])"
      ]
     },
     "execution_count": 35,
     "metadata": {},
     "output_type": "execute_result"
    }
   ],
   "source": [
    "def ComputeSignatureDF(DF=None ,depth=2):\n",
    "    n,d = DF.shape\n",
    "    t = np.arange(d).reshape(-1,1)\n",
    "    temp = np.zeros((d,2))\n",
    "    dSig = sig(temp, depth).shape[0]\n",
    "    PathsSignature = np.zeros((n,dSig))\n",
    "    for i in range(n):\n",
    "        temp = np.concatenate([t,DF[i,:].reshape(-1,1)],axis=1)\n",
    "        PathsSignature[i,:] = sig(temp, depth)\n",
    "    return PathsSignature\n",
    "\n"
   ]
  },
  {
   "cell_type": "code",
   "execution_count": 37,
   "metadata": {
    "ExecuteTime": {
     "end_time": "2022-09-29T11:31:03.598258Z",
     "start_time": "2022-09-29T11:31:03.575515Z"
    }
   },
   "outputs": [],
   "source": [
    "depthVect = np.arange(1,9)\n",
    "DfSCoreswrtDepth = {'Train':pd.DataFrame(columns=['Depth','Accuracy','Recall','Precision','F1-score'],index=np.arange(1,9)),\n",
    "                    'Test':pd.DataFrame(columns=['Depth','Accuracy','Recall','Precision','F1-score'],index=np.arange(1,9))}\n",
    "DfSCoreswrtDepth['Train'].iloc[:,0] = depthVect\n",
    "DfSCoreswrtDepth['Test'].iloc[:,0] = depthVect\n"
   ]
  },
  {
   "cell_type": "code",
   "execution_count": 38,
   "metadata": {
    "ExecuteTime": {
     "end_time": "2022-09-29T11:31:03.815787Z",
     "start_time": "2022-09-29T11:31:03.809384Z"
    }
   },
   "outputs": [],
   "source": [
    "y_trainflat = y_trainUnder.reshape(-1,)\n",
    "y_testflat = y_testUnder.reshape(-1,)"
   ]
  },
  {
   "cell_type": "code",
   "execution_count": 39,
   "metadata": {
    "ExecuteTime": {
     "end_time": "2022-09-29T11:31:04.137700Z",
     "start_time": "2022-09-29T11:31:04.103615Z"
    }
   },
   "outputs": [
    {
     "data": {
      "text/plain": [
       "4218"
      ]
     },
     "execution_count": 39,
     "metadata": {},
     "output_type": "execute_result"
    }
   ],
   "source": [
    "def flatlabels(TrueLabels,dimSign):\n",
    "    n = len(TrueLabels)\n",
    "    y_flat = np.zeros(n*dimSign)\n",
    "    for i in range(n):\n",
    "        y_flat[i*dimSign:(i+1)*dimSign] = np.ones(dimSign)*TrueLabels[i]\n",
    "    return y_flat\n",
    "\n",
    "y_flat= flatlabels(y_testUnder,2)\n",
    "list(y_flat).count(0)"
   ]
  },
  {
   "cell_type": "markdown",
   "metadata": {
    "ExecuteTime": {
     "end_time": "2022-09-29T11:54:30.750866Z",
     "start_time": "2022-09-29T11:54:30.732639Z"
    }
   },
   "source": [
    "# II. Contaminated Time Series Identification "
   ]
  },
  {
   "cell_type": "code",
   "execution_count": 40,
   "metadata": {
    "ExecuteTime": {
     "end_time": "2022-09-29T11:54:30.720609Z",
     "start_time": "2022-09-29T11:31:05.565585Z"
    }
   },
   "outputs": [
    {
     "name": "stdout",
     "output_type": "stream",
     "text": [
      "----------------Depth Signature = 1-------------------------------------\n",
      "----------------Depth Signature = 2-------------------------------------\n",
      "----------------Depth Signature = 3-------------------------------------\n",
      "----------------Depth Signature = 4-------------------------------------\n",
      "----------------Depth Signature = 5-------------------------------------\n",
      "----------------Depth Signature = 6-------------------------------------\n",
      "----------------Depth Signature = 7-------------------------------------\n",
      "----------------Depth Signature = 8-------------------------------------\n"
     ]
    }
   ],
   "source": [
    "for i,depth in enumerate(depthVect):\n",
    "    print(f'----------------Depth Signature = {depth}-------------------------------------')\n",
    "    PathsSignatureTrain =   ComputeSignatureDF(DF=X_trainUnder ,depth=depth)\n",
    "    PathsSignatureTest =   ComputeSignatureDF(DF=X_testUnder ,depth=depth)\n",
    "    \n",
    "    PathsSignatureTrainFlat = PathsSignatureTrain.reshape(-1,1)\n",
    "    PathsSignatureTestFlat = PathsSignatureTest.reshape(-1,1)\n",
    "    \n",
    "    y_trainflat = flatlabels(ytrainUnder,PathsSignatureTrain.shape[1])\n",
    "    y_testflat = flatlabels(ytestUnder,PathsSignatureTest.shape[1])\n",
    "    \n",
    "    clf_if_train = IsolationForest(random_state=0,contamination=0.5)\n",
    "\n",
    "    ypredTrainIF = redefine_if_lof_pred(clf_if_train.fit_predict(PathsSignatureTrainFlat))\n",
    "\n",
    "    clf_if_test = IsolationForest(random_state=0,contamination=0.16)\n",
    "    ypredTestIF = redefine_if_lof_pred(clf_if_test.fit_predict(PathsSignatureTestFlat))\n",
    "\n",
    "    scoresTrainIF = evalalg(y_trainflat,ypredTrainIF)\n",
    "    scoresTestIF = evalalg(y_testflat,ypredTestIF)\n",
    "    \n",
    "    DfSCoreswrtDepth['Train'].iloc[i,1:] = scoresTrainIF\n",
    "    DfSCoreswrtDepth['Test'].iloc[i,1:] = scoresTestIF\n",
    "\n",
    "\n",
    "\n",
    "    \n",
    "    "
   ]
  },
  {
   "cell_type": "code",
   "execution_count": 44,
   "metadata": {
    "ExecuteTime": {
     "end_time": "2022-09-29T11:56:48.115703Z",
     "start_time": "2022-09-29T11:56:48.106969Z"
    }
   },
   "outputs": [
    {
     "data": {
      "text/plain": [
       "3"
      ]
     },
     "execution_count": 44,
     "metadata": {},
     "output_type": "execute_result"
    }
   ],
   "source": [
    "np.argmax(DfSCoreswrtDepth['Train']['F1-score'].values)"
   ]
  },
  {
   "cell_type": "code",
   "execution_count": 46,
   "metadata": {
    "ExecuteTime": {
     "end_time": "2022-09-29T11:57:00.900599Z",
     "start_time": "2022-09-29T11:57:00.880817Z"
    }
   },
   "outputs": [
    {
     "data": {
      "text/html": [
       "<div>\n",
       "<style scoped>\n",
       "    .dataframe tbody tr th:only-of-type {\n",
       "        vertical-align: middle;\n",
       "    }\n",
       "\n",
       "    .dataframe tbody tr th {\n",
       "        vertical-align: top;\n",
       "    }\n",
       "\n",
       "    .dataframe thead th {\n",
       "        text-align: right;\n",
       "    }\n",
       "</style>\n",
       "<table border=\"1\" class=\"dataframe\">\n",
       "  <thead>\n",
       "    <tr style=\"text-align: right;\">\n",
       "      <th></th>\n",
       "      <th>Depth</th>\n",
       "      <th>Accuracy</th>\n",
       "      <th>Recall</th>\n",
       "      <th>Precision</th>\n",
       "      <th>F1-score</th>\n",
       "    </tr>\n",
       "  </thead>\n",
       "  <tbody>\n",
       "    <tr>\n",
       "      <th>1</th>\n",
       "      <td>1</td>\n",
       "      <td>0.477246</td>\n",
       "      <td>0.091431</td>\n",
       "      <td>0.400364</td>\n",
       "      <td>0.148866</td>\n",
       "    </tr>\n",
       "    <tr>\n",
       "      <th>2</th>\n",
       "      <td>2</td>\n",
       "      <td>0.49792</td>\n",
       "      <td>0.483056</td>\n",
       "      <td>0.497856</td>\n",
       "      <td>0.490345</td>\n",
       "    </tr>\n",
       "    <tr>\n",
       "      <th>3</th>\n",
       "      <td>3</td>\n",
       "      <td>0.48263</td>\n",
       "      <td>0.433028</td>\n",
       "      <td>0.480717</td>\n",
       "      <td>0.455628</td>\n",
       "    </tr>\n",
       "    <tr>\n",
       "      <th>4</th>\n",
       "      <td>4</td>\n",
       "      <td>0.494753</td>\n",
       "      <td>0.49</td>\n",
       "      <td>0.494703</td>\n",
       "      <td>0.49234</td>\n",
       "    </tr>\n",
       "    <tr>\n",
       "      <th>5</th>\n",
       "      <td>5</td>\n",
       "      <td>0.486882</td>\n",
       "      <td>0.486541</td>\n",
       "      <td>0.486873</td>\n",
       "      <td>0.486707</td>\n",
       "    </tr>\n",
       "    <tr>\n",
       "      <th>6</th>\n",
       "      <td>6</td>\n",
       "      <td>0.487072</td>\n",
       "      <td>0.289871</td>\n",
       "      <td>0.478653</td>\n",
       "      <td>0.361076</td>\n",
       "    </tr>\n",
       "    <tr>\n",
       "      <th>7</th>\n",
       "      <td>7</td>\n",
       "      <td>0.490986</td>\n",
       "      <td>0.380806</td>\n",
       "      <td>0.488438</td>\n",
       "      <td>0.427958</td>\n",
       "    </tr>\n",
       "    <tr>\n",
       "      <th>8</th>\n",
       "      <td>8</td>\n",
       "      <td>0.493711</td>\n",
       "      <td>0.34421</td>\n",
       "      <td>0.491028</td>\n",
       "      <td>0.404715</td>\n",
       "    </tr>\n",
       "  </tbody>\n",
       "</table>\n",
       "</div>"
      ],
      "text/plain": [
       "   Depth  Accuracy    Recall Precision  F1-score\n",
       "1      1  0.477246  0.091431  0.400364  0.148866\n",
       "2      2   0.49792  0.483056  0.497856  0.490345\n",
       "3      3   0.48263  0.433028  0.480717  0.455628\n",
       "4      4  0.494753      0.49  0.494703   0.49234\n",
       "5      5  0.486882  0.486541  0.486873  0.486707\n",
       "6      6  0.487072  0.289871  0.478653  0.361076\n",
       "7      7  0.490986  0.380806  0.488438  0.427958\n",
       "8      8  0.493711   0.34421  0.491028  0.404715"
      ]
     },
     "execution_count": 46,
     "metadata": {},
     "output_type": "execute_result"
    }
   ],
   "source": [
    "DfSCoreswrtDepth['Train']"
   ]
  },
  {
   "cell_type": "code",
   "execution_count": 45,
   "metadata": {
    "ExecuteTime": {
     "end_time": "2022-09-29T11:56:51.515357Z",
     "start_time": "2022-09-29T11:56:51.477113Z"
    }
   },
   "outputs": [
    {
     "data": {
      "text/html": [
       "<div>\n",
       "<style scoped>\n",
       "    .dataframe tbody tr th:only-of-type {\n",
       "        vertical-align: middle;\n",
       "    }\n",
       "\n",
       "    .dataframe tbody tr th {\n",
       "        vertical-align: top;\n",
       "    }\n",
       "\n",
       "    .dataframe thead th {\n",
       "        text-align: right;\n",
       "    }\n",
       "</style>\n",
       "<table border=\"1\" class=\"dataframe\">\n",
       "  <thead>\n",
       "    <tr style=\"text-align: right;\">\n",
       "      <th></th>\n",
       "      <th>Depth</th>\n",
       "      <th>Accuracy</th>\n",
       "      <th>Recall</th>\n",
       "      <th>Precision</th>\n",
       "      <th>F1-score</th>\n",
       "    </tr>\n",
       "  </thead>\n",
       "  <tbody>\n",
       "    <tr>\n",
       "      <th>1</th>\n",
       "      <td>1</td>\n",
       "      <td>0.709881</td>\n",
       "      <td>0.109264</td>\n",
       "      <td>0.11358</td>\n",
       "      <td>0.11138</td>\n",
       "    </tr>\n",
       "    <tr>\n",
       "      <th>2</th>\n",
       "      <td>2</td>\n",
       "      <td>0.799736</td>\n",
       "      <td>0.027712</td>\n",
       "      <td>0.107034</td>\n",
       "      <td>0.044025</td>\n",
       "    </tr>\n",
       "    <tr>\n",
       "      <th>3</th>\n",
       "      <td>3</td>\n",
       "      <td>0.720045</td>\n",
       "      <td>0.139125</td>\n",
       "      <td>0.144825</td>\n",
       "      <td>0.141918</td>\n",
       "    </tr>\n",
       "    <tr>\n",
       "      <th>4</th>\n",
       "      <td>4</td>\n",
       "      <td>0.723188</td>\n",
       "      <td>0.14901</td>\n",
       "      <td>0.154974</td>\n",
       "      <td>0.151933</td>\n",
       "    </tr>\n",
       "    <tr>\n",
       "      <th>5</th>\n",
       "      <td>5</td>\n",
       "      <td>0.726884</td>\n",
       "      <td>0.134817</td>\n",
       "      <td>0.148</td>\n",
       "      <td>0.141101</td>\n",
       "    </tr>\n",
       "    <tr>\n",
       "      <th>6</th>\n",
       "      <td>6</td>\n",
       "      <td>0.72156</td>\n",
       "      <td>0.140199</td>\n",
       "      <td>0.147008</td>\n",
       "      <td>0.143523</td>\n",
       "    </tr>\n",
       "    <tr>\n",
       "      <th>7</th>\n",
       "      <td>7</td>\n",
       "      <td>0.723362</td>\n",
       "      <td>0.142845</td>\n",
       "      <td>0.150657</td>\n",
       "      <td>0.146647</td>\n",
       "    </tr>\n",
       "    <tr>\n",
       "      <th>8</th>\n",
       "      <td>8</td>\n",
       "      <td>0.720949</td>\n",
       "      <td>0.142229</td>\n",
       "      <td>0.147937</td>\n",
       "      <td>0.145027</td>\n",
       "    </tr>\n",
       "  </tbody>\n",
       "</table>\n",
       "</div>"
      ],
      "text/plain": [
       "   Depth  Accuracy    Recall Precision  F1-score\n",
       "1      1  0.709881  0.109264   0.11358   0.11138\n",
       "2      2  0.799736  0.027712  0.107034  0.044025\n",
       "3      3  0.720045  0.139125  0.144825  0.141918\n",
       "4      4  0.723188   0.14901  0.154974  0.151933\n",
       "5      5  0.726884  0.134817     0.148  0.141101\n",
       "6      6   0.72156  0.140199  0.147008  0.143523\n",
       "7      7  0.723362  0.142845  0.150657  0.146647\n",
       "8      8  0.720949  0.142229  0.147937  0.145027"
      ]
     },
     "execution_count": 45,
     "metadata": {},
     "output_type": "execute_result"
    }
   ],
   "source": [
    "DfSCoreswrtDepth['Test']"
   ]
  },
  {
   "cell_type": "markdown",
   "metadata": {},
   "source": [
    "## III. Anomaly Localization "
   ]
  },
  {
   "cell_type": "code",
   "execution_count": 47,
   "metadata": {
    "ExecuteTime": {
     "end_time": "2022-09-29T11:57:16.345115Z",
     "start_time": "2022-09-29T11:57:11.604588Z"
    }
   },
   "outputs": [],
   "source": [
    "X_traindf = pd.read_csv(r'C:\\Users\\nmadhar\\Desktop\\Conv_deep\\ToSubmit\\Data\\XTrainLoc.csv').drop(['Unnamed: 0'],axis=1)\n",
    "y_traindf = pd.read_csv(r'C:\\Users\\nmadhar\\Desktop\\Conv_deep\\ToSubmit\\Data\\yTrainLoc.csv').drop(['Unnamed: 0'],axis=1)\n",
    "\n",
    "X_testdf = pd.read_csv(r'C:\\Users\\nmadhar\\Desktop\\Conv_deep\\ToSubmit\\Data\\XTestLoc.csv').drop(['Unnamed: 0'],axis=1)\n",
    "y_testdf = pd.read_csv(r'C:\\Users\\nmadhar\\Desktop\\Conv_deep\\ToSubmit\\Data\\yTestLoc.csv').drop(['Unnamed: 0'],axis=1)\n",
    "\n",
    "Xtrain = np.array(X_traindf.iloc[:,:-3])\n",
    "Xtest = np.array(X_testdf.iloc[:,:-3])\n",
    "ytrain = np.array(y_traindf.iloc[:,:-3])\n",
    "ytest = np.array(y_testdf.iloc[:,:-3])\n",
    "\n",
    "\n",
    "ytrain_loc = [list(y_traindf.iloc[i,:]).index(1)for i in range(y_traindf.shape[0]) ]\n",
    "\n",
    "ytest_loc = [list(y_testdf.iloc[i,:]).index(1) for i in range(y_testdf.shape[0]) ]\n",
    "ntrain,d = Xtrain.shape\n",
    "ntest = Xtest.shape[0]\n"
   ]
  },
  {
   "cell_type": "code",
   "execution_count": 50,
   "metadata": {
    "ExecuteTime": {
     "end_time": "2022-09-29T11:57:47.202265Z",
     "start_time": "2022-09-29T11:57:45.019060Z"
    }
   },
   "outputs": [
    {
     "name": "stderr",
     "output_type": "stream",
     "text": [
      "100%|████████████████████████████████████████████████████████████████████████████| 7896/7896 [00:01<00:00, 6070.91it/s]\n",
      "100%|████████████████████████████████████████████████████████████████████████████| 4031/4031 [00:00<00:00, 7746.28it/s]\n"
     ]
    },
    {
     "name": "stdout",
     "output_type": "stream",
     "text": [
      "Exe. time :0.004050016403198242\n",
      "------------Scores on Train-------------\n",
      "Accuracy: 0.8965298885511651\n",
      "Recall: 0.8981681124332016\n",
      "Precision: 0.8965298885511651\n",
      "F1-score: 0.896823274794882\n",
      "\n",
      "------------Scores on Test-------------\n",
      "Accuracy: 0.9439345075663607\n",
      "Recall: 0.9448988449153181\n",
      "Precision: 0.9439345075663607\n",
      "F1-score: 0.943797990883878\n",
      "\n"
     ]
    },
    {
     "data": {
      "text/plain": [
       "0"
      ]
     },
     "execution_count": 50,
     "metadata": {},
     "output_type": "execute_result"
    }
   ],
   "source": [
    "# with PCA approach\n",
    "k = 20\n",
    "norms_train, norms_test =  modelPCALocation(Xtrain,Xtest,k)\n",
    "\n",
    "pred_loc_train = dummyprediction(norms_train)\n",
    "scoresTrain = EvaluationPred(yPred = pred_loc_train,yTrue=ytrain_loc)\n",
    "s = time.time()\n",
    "pred_loc_test = dummyprediction(norms_test)\n",
    "timePCANN = time.time()-s\n",
    "print(f'Exe. time :{timePCANN}')\n",
    "\n",
    "scoresTest = EvaluationPred(yPred = pred_loc_test,yTrue=ytest_loc)\n",
    "ScoresPCANNTrain = [scoresTrain[0],scoresTrain[2],scoresTrain[1],scoresTrain[-1]]\n",
    "\n",
    "ScoresPCANNTest = [scoresTest[0],scoresTest[2],scoresTest[1],scoresTest[-1]]\n",
    "\n",
    "\n",
    "printRes(ScoresPCANNTrain,'Train')\n",
    "printRes(ScoresPCANNTest,'Test')"
   ]
  },
  {
   "cell_type": "code",
   "execution_count": 51,
   "metadata": {
    "ExecuteTime": {
     "end_time": "2022-09-29T11:58:12.904284Z",
     "start_time": "2022-09-29T11:58:12.867537Z"
    }
   },
   "outputs": [],
   "source": [
    "n = int(Xtrain.shape[0]*206)\n",
    "xtrain_flat = Xtrain.reshape(Xtrain.shape[0]*Xtrain.shape[1],1)[:n,0].reshape(-1,1)\n",
    "ytrain_flat = ytrain.reshape(ytrain.shape[0]*ytrain.shape[1],1)[:n,0].reshape(-1,1)\n",
    "xtest_flat = Xtest.reshape(Xtest.shape[0]*Xtest.shape[1],1)[:].reshape(-1,1)\n",
    "ytest_flat = ytest.reshape(ytest.shape[0]*ytest.shape[1],1)[:].reshape(-1,1)\n"
   ]
  },
  {
   "cell_type": "code",
   "execution_count": 52,
   "metadata": {
    "ExecuteTime": {
     "end_time": "2022-09-29T11:59:09.386798Z",
     "start_time": "2022-09-29T11:59:09.366168Z"
    }
   },
   "outputs": [],
   "source": [
    "DfSCoreswrtDepthLoc = {'Train':pd.DataFrame(columns=['Depth','Accuracy','Recall','Precision','F1-score'],index=np.arange(1,9)),\n",
    "                    'Test':pd.DataFrame(columns=['Depth','Accuracy','Recall','Precision','F1-score'],index=np.arange(1,9))}\n",
    "DfSCoreswrtDepthLoc['Train'].iloc[:,0] = depthVect\n",
    "DfSCoreswrtDepthLoc['Test'].iloc[:,0] = depthVect"
   ]
  },
  {
   "cell_type": "code",
   "execution_count": null,
   "metadata": {},
   "outputs": [],
   "source": [
    "for i,depth in enumerate([1,2]):\n",
    "    print(f'----------------Depth Signature = {depth}-------------------------------------')\n",
    "    PathsSignatureTrain =   ComputeSignatureDF(DF=X_trainUnder ,depth=depth)\n",
    "    PathsSignatureTest =   ComputeSignatureDF(DF=X_testUnder ,depth=depth)\n",
    "    \n",
    "    PathsSignatureTrainFlat = PathsSignatureTrain.reshape(-1,1)\n",
    "    PathsSignatureTestFlat = PathsSignatureTest.reshape(-1,1)\n",
    "    \n",
    "    y_trainflat = flatlabels(ytrainUnder,PathsSignatureTrain.shape[1])\n",
    "    y_testflat = flatlabels(ytestUnder,PathsSignatureTest.shape[1])\n",
    "    \n",
    "    clf_if_train = IsolationForest(random_state=0,contamination=0.5)\n",
    "\n",
    "    ypredTrainIF = redefine_if_lof_pred(clf_if_train.fit_predict(PathsSignatureTrainFlat))\n",
    "\n",
    "    clf_if_test = IsolationForest(random_state=0,contamination=0.16)\n",
    "    ypredTestIF = redefine_if_lof_pred(clf_if_test.fit_predict(PathsSignatureTestFlat))\n",
    "\n",
    "    scoresTrainIF = evalalg(y_trainflat,ypredTrainIF)\n",
    "    scoresTestIF = evalalg(y_testflat,ypredTestIF)\n",
    "    \n",
    "    DfSCoreswrtDepth['Train'].iloc[i,1:] = scoresTrainIF\n",
    "    DfSCoreswrtDepth['Test'].iloc[i,1:] = scoresTestIF"
   ]
  },
  {
   "cell_type": "code",
   "execution_count": null,
   "metadata": {},
   "outputs": [],
   "source": [
    "ytest"
   ]
  },
  {
   "cell_type": "code",
   "execution_count": null,
   "metadata": {},
   "outputs": [],
   "source": []
  },
  {
   "cell_type": "code",
   "execution_count": null,
   "metadata": {},
   "outputs": [],
   "source": []
  },
  {
   "cell_type": "code",
   "execution_count": null,
   "metadata": {},
   "outputs": [],
   "source": []
  },
  {
   "cell_type": "code",
   "execution_count": null,
   "metadata": {},
   "outputs": [],
   "source": []
  },
  {
   "cell_type": "code",
   "execution_count": null,
   "metadata": {},
   "outputs": [],
   "source": []
  },
  {
   "cell_type": "code",
   "execution_count": null,
   "metadata": {},
   "outputs": [],
   "source": []
  },
  {
   "cell_type": "code",
   "execution_count": null,
   "metadata": {},
   "outputs": [],
   "source": []
  },
  {
   "cell_type": "code",
   "execution_count": null,
   "metadata": {},
   "outputs": [],
   "source": []
  },
  {
   "cell_type": "code",
   "execution_count": null,
   "metadata": {},
   "outputs": [],
   "source": []
  },
  {
   "cell_type": "code",
   "execution_count": null,
   "metadata": {},
   "outputs": [],
   "source": []
  }
 ],
 "metadata": {
  "kernelspec": {
   "display_name": "Python 3",
   "language": "python",
   "name": "python3"
  },
  "language_info": {
   "codemirror_mode": {
    "name": "ipython",
    "version": 3
   },
   "file_extension": ".py",
   "mimetype": "text/x-python",
   "name": "python",
   "nbconvert_exporter": "python",
   "pygments_lexer": "ipython3",
   "version": "3.7.3"
  }
 },
 "nbformat": 4,
 "nbformat_minor": 2
}
